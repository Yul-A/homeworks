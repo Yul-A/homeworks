{
 "cells": [
  {
   "cell_type": "code",
   "execution_count": 1,
   "metadata": {},
   "outputs": [],
   "source": [
    "documents = [\n",
    "{'type': 'passport', 'number': '2207 876234', 'name': 'Василий Гупкин'},\n",
    "{'type': 'invoice', 'number': '11-2', 'name': 'Геннадий Покемонов'},\n",
    "{'type': 'insurance', 'number': '10006', 'name': 'Аристарх Павлов'}\n",
    "]\n",
    "\n",
    "\n",
    "directories = {\n",
    "'1': ['2207 876234', '11-2'],\n",
    "'2': ['10006'],\n",
    "'3': []\n",
    "}"
   ]
  },
  {
   "cell_type": "code",
   "execution_count": 2,
   "metadata": {},
   "outputs": [],
   "source": [
    "#задание1\n",
    "def p():\n",
    "    doc_num = input('Введите номер документа:')\n",
    "    for i in documents:\n",
    "        if doc_num in i.values():\n",
    "            name = list(i.values())[2]\n",
    "            name = 'Владелец документа: '+str(name)\n",
    "            return name\n"
   ]
  },
  {
   "cell_type": "code",
   "execution_count": 3,
   "metadata": {},
   "outputs": [],
   "source": [
    "#задание2\n",
    "def s():\n",
    "    doc_num = input('Введите номер документа:')\n",
    "    for k, v in directories.items():\n",
    "        if doc_num in v:\n",
    "            answer = 'Документ хранится на полке: '+str(k)\n",
    "            return answer\n",
    "\n"
   ]
  },
  {
   "cell_type": "code",
   "execution_count": 4,
   "metadata": {},
   "outputs": [],
   "source": [
    "#задание3\n",
    "\n",
    "def l():\n",
    "    for dict in documents:\n",
    "        num = list(dict.values())[1]\n",
    "        for k, v in directories.items():\n",
    "            if num in v:\n",
    "                doc_type = list(dict.values())[0]\n",
    "                owner = list(dict.values())[2]\n",
    "                print('№:', str(num)+',', 'тип:', str(doc_type)+',', 'владелец:', str(owner)+',', 'полка хранения:', k)\n",
    "                "
   ]
  },
  {
   "cell_type": "code",
   "execution_count": 5,
   "metadata": {},
   "outputs": [],
   "source": [
    "#задание4\n",
    "\n",
    "def ts():\n",
    "    new_folder = input('Введите номер полки:')\n",
    "    if new_folder in directories.keys():\n",
    "        answer = 'Такая полка уже существует. Текущий перечень полок: ' + ', '.join(list(directories.keys()))\n",
    "        return answer\n",
    "    else:\n",
    "        directories[new_folder] = ''\n",
    "        answer = 'Полка добавлена. Текущий перечень полок: ' + ', '.join(list(directories.keys()))\n",
    "        return answer\n",
    "    "
   ]
  },
  {
   "cell_type": "code",
   "execution_count": 6,
   "metadata": {},
   "outputs": [],
   "source": [
    "#задание5\n",
    "\n",
    "def ds():\n",
    "    new_folder = input('Введите номер полки:')\n",
    "    if new_folder in directories.keys() and len(directories[new_folder]) == 0:\n",
    "        directories.pop(new_folder)\n",
    "        answer = 'Полка удалена. Текущий перечень полок: ' + ', '.join(list(directories.keys()))\n",
    "        return answer\n",
    "    elif new_folder in directories.keys() and len(directories[new_folder]) != 0:\n",
    "        answer = 'На полке есть документы, удалите их перед удалением полки. Текущий перечень полок: ' + ', '.join(list(directories.keys()))\n",
    "        return answer\n",
    "    else:\n",
    "        answer = 'Такой полки не существует. Текущий перечень полок: ' + ', '.join(list(directories.keys()))\n",
    "        return answer\n",
    "          "
   ]
  },
  {
   "cell_type": "code",
   "execution_count": 7,
   "metadata": {
    "scrolled": true
   },
   "outputs": [
    {
     "name": "stdout",
     "output_type": "stream",
     "text": [
      "Введите команду:p\n",
      "Введите номер документа:123\n",
      "Документ не найден в базе.\n",
      "Введите команду:p\n",
      "Введите номер документа:10006\n",
      "Владелец документа: Аристарх Павлов\n",
      "Введите команду:s\n",
      "Введите номер документа:asd\n",
      "Документ не найден в базе.\n",
      "Введите команду:s\n",
      "Введите номер документа:10006\n",
      "Документ хранится на полке: 2\n",
      "Введите команду:l\n",
      "№: 2207 876234, тип: passport, владелец: Василий Гупкин, полка хранения: 1\n",
      "№: 11-2, тип: invoice, владелец: Геннадий Покемонов, полка хранения: 1\n",
      "№: 10006, тип: insurance, владелец: Аристарх Павлов, полка хранения: 2\n",
      "Введите команду:as\n",
      "Введите номер полки:777\n",
      "Полка добавлена. Текущий перечень полок: 1, 2, 3, 777\n",
      "Введите команду:as\n",
      "Введите номер полки:1\n",
      "Такая полка уже существует. Текущий перечень полок: 1, 2, 3, 777\n",
      "Введите команду:ds\n",
      "Введите номер полки:777\n",
      "Полка удалена. Текущий перечень полок: 1, 2, 3\n",
      "Введите команду:ds\n",
      "Введите номер полки:1\n",
      "На полке есть документы, удалите их перед удалением полки. Текущий перечень полок: 1, 2, 3\n",
      "Введите команду:ds\n",
      "Введите номер полки:3\n",
      "Полка удалена. Текущий перечень полок: 1, 2\n",
      "Введите команду:stop\n"
     ]
    }
   ],
   "source": [
    "command = ''\n",
    "while command != 'stop':\n",
    "    command = input('Введите команду:')\n",
    "    if command == 'p':\n",
    "        print(p() or 'Документ не найден в базе.')\n",
    "        #print(p(input()))\n",
    "        #print('Владелец документа:' + p(input('Введите номер документа: ')) or 'Документ не найден в базе')\n",
    "    elif command == 's':\n",
    "        print(s() or 'Документ не найден в базе.')\n",
    "    elif command == 'l':\n",
    "        l()\n",
    "    elif command == 'as':\n",
    "        print(ts())\n",
    "        \n",
    "    elif command == 'ds':\n",
    "        print(ds())\n",
    "        "
   ]
  }
 ],
 "metadata": {
  "kernelspec": {
   "display_name": "Python 3",
   "language": "python",
   "name": "python3"
  },
  "language_info": {
   "codemirror_mode": {
    "name": "ipython",
    "version": 3
   },
   "file_extension": ".py",
   "mimetype": "text/x-python",
   "name": "python",
   "nbconvert_exporter": "python",
   "pygments_lexer": "ipython3",
   "version": "3.8.3"
  }
 },
 "nbformat": 4,
 "nbformat_minor": 4
}
