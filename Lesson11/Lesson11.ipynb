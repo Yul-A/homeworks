{
 "cells": [
  {
   "cell_type": "code",
   "execution_count": 2,
   "metadata": {},
   "outputs": [],
   "source": [
    "#Скачайте с сайта https://grouplens.org/datasets/movielens/ \n",
    "#датасет любого размера. Определите какому фильму было выставлено больше всего оценок 5.0."
   ]
  },
  {
   "cell_type": "code",
   "execution_count": 7,
   "metadata": {},
   "outputs": [
    {
     "data": {
      "text/html": [
       "<div>\n",
       "<style scoped>\n",
       "    .dataframe tbody tr th:only-of-type {\n",
       "        vertical-align: middle;\n",
       "    }\n",
       "\n",
       "    .dataframe tbody tr th {\n",
       "        vertical-align: top;\n",
       "    }\n",
       "\n",
       "    .dataframe thead th {\n",
       "        text-align: right;\n",
       "    }\n",
       "</style>\n",
       "<table border=\"1\" class=\"dataframe\">\n",
       "  <thead>\n",
       "    <tr style=\"text-align: right;\">\n",
       "      <th></th>\n",
       "      <th>userId</th>\n",
       "      <th>movieId</th>\n",
       "      <th>rating</th>\n",
       "      <th>timestamp</th>\n",
       "    </tr>\n",
       "  </thead>\n",
       "  <tbody>\n",
       "    <tr>\n",
       "      <th>0</th>\n",
       "      <td>1</td>\n",
       "      <td>296</td>\n",
       "      <td>5.0</td>\n",
       "      <td>1147880044</td>\n",
       "    </tr>\n",
       "    <tr>\n",
       "      <th>1</th>\n",
       "      <td>1</td>\n",
       "      <td>306</td>\n",
       "      <td>3.5</td>\n",
       "      <td>1147868817</td>\n",
       "    </tr>\n",
       "    <tr>\n",
       "      <th>2</th>\n",
       "      <td>1</td>\n",
       "      <td>307</td>\n",
       "      <td>5.0</td>\n",
       "      <td>1147868828</td>\n",
       "    </tr>\n",
       "    <tr>\n",
       "      <th>3</th>\n",
       "      <td>1</td>\n",
       "      <td>665</td>\n",
       "      <td>5.0</td>\n",
       "      <td>1147878820</td>\n",
       "    </tr>\n",
       "    <tr>\n",
       "      <th>4</th>\n",
       "      <td>1</td>\n",
       "      <td>899</td>\n",
       "      <td>3.5</td>\n",
       "      <td>1147868510</td>\n",
       "    </tr>\n",
       "  </tbody>\n",
       "</table>\n",
       "</div>"
      ],
      "text/plain": [
       "   userId  movieId  rating   timestamp\n",
       "0       1      296     5.0  1147880044\n",
       "1       1      306     3.5  1147868817\n",
       "2       1      307     5.0  1147868828\n",
       "3       1      665     5.0  1147878820\n",
       "4       1      899     3.5  1147868510"
      ]
     },
     "execution_count": 7,
     "metadata": {},
     "output_type": "execute_result"
    }
   ],
   "source": [
    "import pandas as pd\n",
    "df = pd.read_csv('C:/Users/Yulia/Documents/Python Scripts/python11/ratings.csv')\n",
    "movies = pd.read_csv('C:/Users/Yulia/Documents/Python Scripts/python11/movies.csv')"
   ]
  },
  {
   "cell_type": "code",
   "execution_count": 34,
   "metadata": {},
   "outputs": [
    {
     "name": "stdout",
     "output_type": "stream",
     "text": [
      "Shawshank Redemption, The (1994)\n"
     ]
    }
   ],
   "source": [
    "df_new = df[df.rating == 5.0].groupby(df.movieId).agg(cnt = ('rating', 'count')).reset_index()\n",
    "most_id = df_new[df_new.cnt == df_new.cnt.max()].movieId.values[0]\n",
    "print(movies[movies.movieId == most_id].title.values[0])"
   ]
  },
  {
   "cell_type": "code",
   "execution_count": 1,
   "metadata": {},
   "outputs": [],
   "source": [
    "#По данным файла power.csv посчитайте суммарное потребление стран Прибалтики (Латвия, Литва и Эстония) \n",
    "#категорий 4, 12 и 21 за период с 2005 по 2010 года. Не учитывайте в расчетах отрицательные значения quantity."
   ]
  },
  {
   "cell_type": "code",
   "execution_count": 159,
   "metadata": {},
   "outputs": [
    {
     "data": {
      "text/plain": [
       "118284.0"
      ]
     },
     "execution_count": 159,
     "metadata": {},
     "output_type": "execute_result"
    }
   ],
   "source": [
    "df = pd.read_csv('C:/Users/Yulia/Documents/Python Scripts/python11/power.csv')\n",
    "df = df[df.country.isin(['Latvia', 'Luthuania', 'Estonia'])]\n",
    "df = df[(df.year >= 2005) & (df.year <= 2010)]\n",
    "df = df[df.category.isin([4, 12, 21])]\n",
    "df = df[df.quantity >= 0]\n",
    "df.quantity.sum()"
   ]
  },
  {
   "cell_type": "code",
   "execution_count": null,
   "metadata": {},
   "outputs": [],
   "source": [
    "#Выберите страницу любого сайта с табличными данными. Импортируйте таблицы в pandas dataframe.\n",
    "#Примеры страниц (необязательно брать именно эти):\n",
    "#https://fortrader.org/quotes\n",
    "#https://www.finanz.ru/valyuty/v-realnom-vremeni"
   ]
  },
  {
   "cell_type": "code",
   "execution_count": 135,
   "metadata": {},
   "outputs": [],
   "source": [
    "df = pd.read_html('https://wciom.ru/news/ratings/doverie_politikam_1/')[0]"
   ]
  },
  {
   "cell_type": "code",
   "execution_count": 136,
   "metadata": {},
   "outputs": [
    {
     "data": {
      "text/html": [
       "<div>\n",
       "<style scoped>\n",
       "    .dataframe tbody tr th:only-of-type {\n",
       "        vertical-align: middle;\n",
       "    }\n",
       "\n",
       "    .dataframe tbody tr th {\n",
       "        vertical-align: top;\n",
       "    }\n",
       "\n",
       "    .dataframe thead th {\n",
       "        text-align: right;\n",
       "    }\n",
       "</style>\n",
       "<table border=\"1\" class=\"dataframe\">\n",
       "  <thead>\n",
       "    <tr style=\"text-align: right;\">\n",
       "      <th></th>\n",
       "      <th>ДОВЕРИЕ политикам (суммы ответов «безусловно доверяю» и «скорее доверяю»)</th>\n",
       "      <th>27.09.2020</th>\n",
       "      <th>04.10.2020</th>\n",
       "      <th>11.10.2020</th>\n",
       "      <th>18.10.2020</th>\n",
       "    </tr>\n",
       "  </thead>\n",
       "  <tbody>\n",
       "    <tr>\n",
       "      <th>0</th>\n",
       "      <td>Путин В.В.</td>\n",
       "      <td>68.1</td>\n",
       "      <td>67.7</td>\n",
       "      <td>69.0</td>\n",
       "      <td>67.7</td>\n",
       "    </tr>\n",
       "    <tr>\n",
       "      <th>1</th>\n",
       "      <td>Мишустин М.В.</td>\n",
       "      <td>54.2</td>\n",
       "      <td>53.8</td>\n",
       "      <td>54.4</td>\n",
       "      <td>53.4</td>\n",
       "    </tr>\n",
       "    <tr>\n",
       "      <th>2</th>\n",
       "      <td>Жириновский В.В.</td>\n",
       "      <td>29.8</td>\n",
       "      <td>31.0</td>\n",
       "      <td>32.1</td>\n",
       "      <td>32.2</td>\n",
       "    </tr>\n",
       "    <tr>\n",
       "      <th>3</th>\n",
       "      <td>Миронов С.М.</td>\n",
       "      <td>24.0</td>\n",
       "      <td>25.9</td>\n",
       "      <td>25.4</td>\n",
       "      <td>27.2</td>\n",
       "    </tr>\n",
       "    <tr>\n",
       "      <th>4</th>\n",
       "      <td>Зюганов Г.А.</td>\n",
       "      <td>28.4</td>\n",
       "      <td>26.6</td>\n",
       "      <td>27.5</td>\n",
       "      <td>27.1</td>\n",
       "    </tr>\n",
       "    <tr>\n",
       "      <th>5</th>\n",
       "      <td>Медведев Д.А.</td>\n",
       "      <td>21.4</td>\n",
       "      <td>23.9</td>\n",
       "      <td>25.6</td>\n",
       "      <td>24.9</td>\n",
       "    </tr>\n",
       "  </tbody>\n",
       "</table>\n",
       "</div>"
      ],
      "text/plain": [
       "  ДОВЕРИЕ политикам (суммы ответов «безусловно доверяю» и «скорее доверяю»)  \\\n",
       "0                                         Путин В.В.                          \n",
       "1                                      Мишустин М.В.                          \n",
       "2                                   Жириновский В.В.                          \n",
       "3                                       Миронов С.М.                          \n",
       "4                                       Зюганов Г.А.                          \n",
       "5                                      Медведев Д.А.                          \n",
       "\n",
       "   27.09.2020  04.10.2020  11.10.2020  18.10.2020  \n",
       "0        68.1        67.7        69.0        67.7  \n",
       "1        54.2        53.8        54.4        53.4  \n",
       "2        29.8        31.0        32.1        32.2  \n",
       "3        24.0        25.9        25.4        27.2  \n",
       "4        28.4        26.6        27.5        27.1  \n",
       "5        21.4        23.9        25.6        24.9  "
      ]
     },
     "execution_count": 136,
     "metadata": {},
     "output_type": "execute_result"
    }
   ],
   "source": [
    "df"
   ]
  },
  {
   "cell_type": "code",
   "execution_count": null,
   "metadata": {},
   "outputs": [],
   "source": []
  }
 ],
 "metadata": {
  "kernelspec": {
   "display_name": "Python 3",
   "language": "python",
   "name": "python3"
  },
  "language_info": {
   "codemirror_mode": {
    "name": "ipython",
    "version": 3
   },
   "file_extension": ".py",
   "mimetype": "text/x-python",
   "name": "python",
   "nbconvert_exporter": "python",
   "pygments_lexer": "ipython3",
   "version": "3.8.3"
  }
 },
 "nbformat": 4,
 "nbformat_minor": 4
}
