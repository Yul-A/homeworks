{
 "cells": [
  {
   "cell_type": "code",
   "execution_count": 92,
   "metadata": {},
   "outputs": [
    {
     "name": "stdout",
     "output_type": "stream",
     "text": [
      "t\n"
     ]
    }
   ],
   "source": [
    "#Задание1\n",
    "word = 'testing'\n",
    "\n",
    "if len(word) % 2 == 0:\n",
    "    print(word[len(word) // 2 - 1:len(word) // 2 + 1])\n",
    "else:\n",
    "    print(word[len(word) // 2])"
   ]
  },
  {
   "cell_type": "code",
   "execution_count": 132,
   "metadata": {},
   "outputs": [
    {
     "name": "stdout",
     "output_type": "stream",
     "text": [
      "Введите число2\n",
      "Введите число4\n",
      "Введите число5\n",
      "Введите число6\n",
      "Введите число0\n",
      "Результаты:  17\n"
     ]
    }
   ],
   "source": [
    "#Задание2\n",
    "total = 0\n",
    "vvod = int(input('Введите число'))\n",
    "\n",
    "while vvod != 0: \n",
    "    total = total + vvod\n",
    "    vvod = int(input('Введите число'))\n",
    "\n",
    "print('Результаты: ', total)\n",
    "    "
   ]
  },
  {
   "cell_type": "code",
   "execution_count": 235,
   "metadata": {},
   "outputs": [
    {
     "name": "stdout",
     "output_type": "stream",
     "text": [
      "Результат: Внимание, кто-то может остаться без пары!\n"
     ]
    }
   ],
   "source": [
    "#Задание3\n",
    "boys = ['Peter', 'Alex', 'John', 'Arthur', 'Richard']\n",
    "girls = ['Kate', 'Liza', 'Kira', 'Emma', 'Trisha']\n",
    "\n",
    "boys = sorted(boys)\n",
    "girls = sorted(girls)\n",
    "\n",
    "\n",
    "if len(boys) == len(girls):\n",
    "    dlina_spiskov = len(boys)\n",
    "    print('Идеальные пары: ')\n",
    "    for i in range(dlina_spiskov):\n",
    "        print(boys[i],'и',girls[i])\n",
    "\n",
    "else:\n",
    "    print('Результат: Внимание, кто-то может остаться без пары!')"
   ]
  },
  {
   "cell_type": "code",
   "execution_count": 302,
   "metadata": {},
   "outputs": [
    {
     "name": "stdout",
     "output_type": "stream",
     "text": [
      "Средняя температура в странах:\n",
      "Thailand - 23.9 C\n",
      "Germany - 13.8 C\n",
      "Russia - 3.7 C\n",
      "Poland - 12.0 C\n"
     ]
    }
   ],
   "source": [
    "#\n",
    "countries_temperature = [\n",
    "['Thailand', [75.2, 77, 78.8, 73.4, 68, 75.2, 77]],\n",
    "['Germany', [57.2, 55.4, 59, 59, 53.6]],\n",
    "['Russia', [35.6, 37.4, 39.2, 41, 42.8, 39.2, 35.6]],\n",
    "['Poland', [50, 50, 53.6, 57.2, 55.4, 55.4]]\n",
    "]\n",
    "\n",
    "print('Средняя температура в странах:')\n",
    "for el in countries_temperature:\n",
    "    print(el[0], '-', round((sum(el[1]) / len(el[1]) - 32) * 5/9, 1 ), 'C')"
   ]
  },
  {
   "cell_type": "code",
   "execution_count": 370,
   "metadata": {},
   "outputs": [
    {
     "name": "stdout",
     "output_type": "stream",
     "text": [
      "23.25\n"
     ]
    }
   ],
   "source": [
    "#Задание5\n",
    "\n",
    "stream = ['2018-01-01,user1,3',\n",
    " '2018-01-07,user1,4',\n",
    " '2018-03-29,user1,1',\n",
    " '2018-04-04,user1,13',\n",
    " '2018-01-05,user2,7',\n",
    " '2018-06-14,user3,4',\n",
    " '2018-07-02,user3,10',\n",
    " '2018-03-21,user4,19',\n",
    " '2018-03-22,user4,4',\n",
    " '2018-04-22,user4,8',\n",
    " '2018-05-03,user4,9',\n",
    " '2018-05-11,user4,11']\n",
    "\n",
    "\n",
    "sps = []\n",
    "cnt = 0\n",
    "for row in stream:\n",
    "    user = row.split(',')[1]\n",
    "    if user not in sps:\n",
    "        sps.append(user)\n",
    "    cnt = cnt + int(row.split(',')[2])\n",
    "print(cnt / len(sps))"
   ]
  },
  {
   "cell_type": "code",
   "execution_count": 378,
   "metadata": {},
   "outputs": [
    {
     "name": "stdout",
     "output_type": "stream",
     "text": [
      "23.25\n"
     ]
    }
   ],
   "source": [
    "#Задание5 (второй вариант)\n",
    "\n",
    "sps = []\n",
    "cnt = 0\n",
    "for row in stream:\n",
    "    user = row.split(',')[1]\n",
    "    sps.append(user)\n",
    "    cnt = cnt + int(row.split(',')[2])\n",
    "    \n",
    "print(cnt / len(set(sps)))"
   ]
  },
  {
   "cell_type": "code",
   "execution_count": null,
   "metadata": {},
   "outputs": [],
   "source": []
  }
 ],
 "metadata": {
  "kernelspec": {
   "display_name": "Python 3",
   "language": "python",
   "name": "python3"
  },
  "language_info": {
   "codemirror_mode": {
    "name": "ipython",
    "version": 3
   },
   "file_extension": ".py",
   "mimetype": "text/x-python",
   "name": "python",
   "nbconvert_exporter": "python",
   "pygments_lexer": "ipython3",
   "version": "3.8.3"
  }
 },
 "nbformat": 4,
 "nbformat_minor": 4
}
